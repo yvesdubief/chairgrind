{
 "cells": [
  {
   "cell_type": "markdown",
   "metadata": {},
   "source": [
    "# Syllabus Maker: $\\mathrm{\\LaTeX}$ edition\n",
    "\n",
    "## Objective\n",
    "Generate a LaTeX style syllabus from simple data entry.\n",
    "## Requirements\n",
    "For this notebook to work, you need\n",
    "<ul>\n",
    "    <li>Python 3.x with jupyter. The Anaconda platform is recommended https://www.anaconda.com/distribution/</li>\n",
    "    <li>To install pylatex module: <FONT FACE=\"courier\" style=\"color:blue\">pip install pylatex</FONT> in your terminal (mac OS , linux) or anaconda prompt (Windows)</li>\n",
    "    <li>To understand how a notebook works. There are many tutorials, here is one https://www.dataquest.io/blog/jupyter-notebook-tutorial/</li>\n",
    "    <li>To launch jupyter lab or notebook from your terminal or anaconda prompt using <FONT FACE=\"courier\" style=\"color:blue\">jupyter-notebook</FONT> or <FONT FACE=\"courier\" style=\"color:blue\">jupyter-lab</FONT>.\n",
    "    </ul>\n",
    "    \n",
    "## How does it work?\n",
    "\n",
    "The first part of the notebook is only data collecting: Fill/replace the fields with your syllabus' information. The second part generates the pdf file. You are welcome to modify it but if you are new at python, I recommend you leave it as is.\n",
    "\n",
    "## Note\n",
    "Python notebook have one flaw: A modification of a variable in one cell is only effective if the main code (probably in a different cell) is re-run. Another related flaw, a deleted variable remains in the memory until the kernel is restarted or the memory reset. Keep that in mind."
   ]
  },
  {
   "cell_type": "markdown",
   "metadata": {},
   "source": [
    "## Data Entry\n",
    "\n",
    "Variables have explicit names. When editing a variable, make sure that you do not change its format:\n",
    "<ul>\n",
    "    <li> <FONT FACE=\"courier\" style=\"color:blue\">pdfoutputname = \"mysyllabus\" </FONT> is a string of characters and needs the quotes</li>\n",
    "    <li> <FONT FACE=\"courier\" style=\"color:blue\">year = 2020 </FONT> is an integer</li>\n",
    "    <li> <FONT FACE=\"courier\" style=\"color:blue\">instructorofficehours = [\"T 1:00--2:00\", \"M 8:00-9:00\"]</FONT> is a list of two strings of characters.</li>\n",
    "    </ul>\n",
    "Any modification to the format of the variables will cause the code to crash.\n",
    "\n",
    "<b style=\"color:red\"> MAKE SURE YOU RUN ALL THE CELLS</b>"
   ]
  },
  {
   "cell_type": "markdown",
   "metadata": {},
   "source": [
    "### Name of the output"
   ]
  },
  {
   "cell_type": "code",
   "execution_count": 1,
   "metadata": {},
   "outputs": [],
   "source": [
    "pdfoutputname = \"mysyllabus\""
   ]
  },
  {
   "cell_type": "markdown",
   "metadata": {},
   "source": [
    "### Course Name, location, semester and meeting time"
   ]
  },
  {
   "cell_type": "code",
   "execution_count": 2,
   "metadata": {},
   "outputs": [],
   "source": [
    "course = \"ME 144 A Heat Transfer\"\n",
    "semester = \"Spring\"\n",
    "year = 2020\n",
    "classroom = \"Lafayette 207\"\n",
    "meetingtime = \"8:30--9:45\""
   ]
  },
  {
   "cell_type": "markdown",
   "metadata": {},
   "source": [
    "### Instruction\n",
    "If only one instruction and/or TA, enter your data as a list of one element (do not remove the [ ])"
   ]
  },
  {
   "cell_type": "code",
   "execution_count": 3,
   "metadata": {},
   "outputs": [],
   "source": [
    "instructor = [\"Thor, New Asgard 201 C, drthor@uvm.edu\", \n",
    "              \"Peter Quill, Earth 512 A, star-lord@uvm.edu\"]\n",
    "instructorofficehours = [\"T 1:00--2:00\", \n",
    "                         \"M 8:00-9:00\"]\n",
    "TA = [\"Loki, Asgard 201 D, iamloki@uvm.edu\",\n",
    "      \"Bruce Banner, Votey 001F, iamhulk@uvm.edu\"]\n",
    "TAofficehours = [\"W 1:00--2:00\", \n",
    "                 \"F 8:00--9:00\"]"
   ]
  },
  {
   "cell_type": "markdown",
   "metadata": {},
   "source": [
    "### Course description"
   ]
  },
  {
   "cell_type": "code",
   "execution_count": 4,
   "metadata": {},
   "outputs": [],
   "source": [
    "credits= 3\n",
    "prereqs = \"ME143\"\n",
    "textbooktitle = \"Fundamentals of Heat and Mass Transfer 8th Edition\"\n",
    "textbookauthors = \"By Bergman et al., Wiley\"\n",
    "software = [\"Python 3 (Anaconda distribution)\", \n",
    "            \"git\"]\n",
    "coursedescription = \"One- and two-dimensional steady and unsteady thermal conduction; \\\n",
    "                    natural and forced internal and external convection; \\\n",
    "                    thermal radiation; heat exchangers; \\\n",
    "                    boiling and condensation heat transfer\"\n",
    "courseobjectives = [\"To demonstrate the ability to understand and identify relevant modes of heat transfer in physical problems.\", \\\n",
    "                    \"To demonstrate the ability to analyze 1-D and multi-dimensional steady-state heat conduction in bodies with various thermal boundary conditions and with possibly multiple component materials.\",\\\n",
    "                    \"To demonstrate the ability to model and solve unsteady 0-D (lumped capacitance method) and 1-D heat transfer problems; effects of thermal boundary conditions.\",\\\n",
    "                    \"To demonstrate the ability to model and solve 1D unsteady heat transfer involving phase change (melting, solidification)\",\\\n",
    "                    \"To demonstrate the ability to understand the mechanisms of convective heat transfer and to demonstrate the ability to utilize analytical and empirical relations for the solution of engineering heat transfer problems.\",\\\n",
    "                    \"To demonstrate the ability to understand and apply basic numerical methods (finite difference, finite volume) to solve steady and unsteady heat transfer problems.\"\n",
    "                   ]"
   ]
  },
  {
   "cell_type": "markdown",
   "metadata": {},
   "source": [
    "### Grading\n"
   ]
  },
  {
   "cell_type": "code",
   "execution_count": 5,
   "metadata": {},
   "outputs": [],
   "source": [
    "gradedistribution = [[\"Homework\", \"10 %\"],\n",
    "                     [\"Quizzes\", \"20 %\"], \n",
    "                     [\"Midterm grade\", \"30 %\"], \n",
    "                     [\"Project\", \"40 %\"]]\n",
    "gradedistributionnote = \"Notes: (i) Midterm grade = 0.15[lowest midterm grade] + 0.85[highest midterm grade].(ii) The instructor(s) may assign an individual or team project as a midterm exam\"\n",
    "optionquestiongradingscheme = True\n",
    "questiongradingscheme = [[10 , \"Correct answer\"], \n",
    "                         [8 , \"Answer uses the correct physics and/or mathematics but has one small error (e.g. typo)\"],\n",
    "                         [6 , \"One significant error violating the physics and/or mathematics of the problem.\"],\n",
    "                         [4 , \"Two significant errors violating the physics and/or mathematics of the problem.\"],\n",
    "                         [2 , \"An attempt to answer.\"],\n",
    "                         [0 , \"Self-explanatory.\"]]\n",
    "lettergradedistribution = [[\"100.0--93.00\" , \"A\" , \"73.00--76.99\" , \"C\"],\n",
    "                           [\"90.00--92.99\" , \"A-\", \"70.00--72.99\" , \"C-\"],\n",
    "                           [\"87.00--89.99\" , \"B+\", \"67.00--69.99\" , \"D+\"],\n",
    "                           [\"83.00--86.99\" , \"B\" , \"63.00--66.99\" , \"D\"],\n",
    "                           [\"80.00--82.99\" , \"B-\", \"60.00--62.99\" , \"D-\"],\n",
    "                           [\"77.00--79.99\" , \"C+\", \"59.99--00.00\" , \"F\"]]"
   ]
  },
  {
   "cell_type": "markdown",
   "metadata": {},
   "source": [
    "### Policies\n",
    "under development"
   ]
  },
  {
   "cell_type": "code",
   "execution_count": 6,
   "metadata": {},
   "outputs": [],
   "source": [
    "\n",
    "lateassignment = \"Late assignments are bad!\""
   ]
  },
  {
   "cell_type": "markdown",
   "metadata": {},
   "source": [
    "### Schedule\n",
    "Each entry of the list is a week. The number of weeks is printed for your verification."
   ]
  },
  {
   "cell_type": "code",
   "execution_count": 7,
   "metadata": {},
   "outputs": [
    {
     "name": "stdout",
     "output_type": "stream",
     "text": [
      "number of weeks: 15\n"
     ]
    }
   ],
   "source": [
    "\n",
    "\n",
    "schedule = [\"Thermodynamics, Modes of heat transfer, heat transfer coefficients\", \n",
    "            \"Conduction, Fourier's law,  thermal properties of matter, heat equation, boundary conditions, temperature distribution\",\n",
    "           \"1D Conduction, Planar system thermal resistance, composite wall, contact resistance, thermal energy generation\",\n",
    "           \"1D conduction,Radial systems, extended surfaces\",\n",
    "           \"Exam, 2D conduction, Finite volume\",\n",
    "           \"2D conduction + Transient conduction,Linear Algebra and time-stepping methods, Analytical solutions\",\n",
    "            \"Conduction wrap up\",\n",
    "            \"Convection, Review of fluid mechanics, intro to convection, External flows\",\n",
    "            \"Convection, External flows (cont'ed), Internal flows\",\n",
    "            \"Exam (in class), Convection, Internal flows\",\n",
    "            \"Convection, Internal flows, Free and forced convection\",\n",
    "            \"Free convection, Boiling and Condensation\",\n",
    "            \"Boiling and condensation, Radiation\",\n",
    "            \"Radiation\",\n",
    "            \"Review\"]\n",
    "\n",
    "print(\"number of weeks: %i\" %len(schedule))"
   ]
  },
  {
   "cell_type": "markdown",
   "metadata": {},
   "source": [
    "### Generation of Syllabus\n",
    "\n",
    "Run the following cell and you should have your new syllabus in your Syllabus folder in pdf format (and .tex too).\n"
   ]
  },
  {
   "cell_type": "code",
   "execution_count": 8,
   "metadata": {},
   "outputs": [],
   "source": [
    "from pylatex import Document, Section, Subsection, Subsubsection, Tabular, MultiColumn,\\\n",
    "    MultiRow,Itemize, Enumerate, LineBreak\n",
    "from pylatex.utils import italic, bold\n",
    "import os\n",
    "\n",
    "instructorofficehours = [\"Office hours: \" + ohours for ohours in instructorofficehours]\n",
    "TAofficehours = [\"Office hours: \" + ohours for ohours in TAofficehours]\n",
    "\n",
    "geometry_options = {\"tmargin\": \"1in\", \"lmargin\": \"1in\", \"rmargin\": \"1in\"}\n",
    "\n",
    "doc = Document(pdfoutputname,geometry_options=geometry_options)\n",
    "core = Section(course,numbering=False)\n",
    "table1 = Tabular('lll')\n",
    "table1.add_row(\"Semester\",semester+\" \"+str(year),\"\")\n",
    "table1.add_row(\"Classroom\",classroom,\"\")\n",
    "table1.add_row(\"Meeting time\",meetingtime,\"\")\n",
    "for i in range(len(instructor)):\n",
    "    if i == 0:\n",
    "        table1.add_row(\"Instruction\",instructor[i],instructorofficehours[i])\n",
    "    else:\n",
    "        table1.add_row(\"\",instructor[i],instructorofficehours[i])\n",
    "table1.add_empty_row()\n",
    "for i in range(len(TA)):\n",
    "    if i == 0:\n",
    "        table1.add_row(\"TA(s)\",TA[i],TAofficehours[i])\n",
    "    else:\n",
    "        table1.add_row(\"\",TA[i],TAofficehours[i])\n",
    "table1.add_empty_row()\n",
    "table1.add_row(\"Prerequisites\",prereqs,\"\")\n",
    "table1.add_empty_row()\n",
    "table1.add_row(\"Credit hours\",str(credits),\"\")\n",
    "table1.add_empty_row()\n",
    "table1.add_row(\"Textbook\",textbooktitle,\"\")\n",
    "table1.add_row(\"\",textbookauthors,\"\")\n",
    "table1.add_empty_row()\n",
    "for i in range(len(software)):\n",
    "    if i == 0 :\n",
    "        table1.add_row(\"Software\",software[i],\"\")\n",
    "    else:\n",
    "        table1.add_row(\"\",software[i],\"\")\n",
    "core.append(table1)\n",
    "core.append(Subsection(\"Course description\",numbering=False))\n",
    "core.append(coursedescription)\n",
    "core.append(Subsection(\"Course objectives\",numbering=False))\n",
    "listenum1 = Enumerate(enumeration_symbol=r\"\\alph*)\")\n",
    "for i in range(len(courseobjectives)):\n",
    "    listenum1.add_item(courseobjectives[i])\n",
    "core.append(listenum1)\n",
    "\n",
    "core.append(Subsection(\"Grade distribution and assessment\",numbering=False))\n",
    "table2 = Tabular('|l|c|')\n",
    "table2.add_hline()\n",
    "for i in range(len(gradedistribution)):\n",
    "    table2.add_row(str(gradedistribution[i][0]),gradedistribution[i][1])\n",
    "table2.add_hline()\n",
    "core.append(table2)\n",
    "core.append(LineBreak())\n",
    "core.append(gradedistributionnote)\n",
    "if optionquestiongradingscheme:\n",
    "    core.append(Subsection(\"Individual question grading scheme (over 10 points)\",numbering=False))\n",
    "\n",
    "    table3 = Tabular('|c|l|')\n",
    "    table3.add_hline()\n",
    "    for i in range(len(questiongradingscheme)):\n",
    "        table3.add_row(str(questiongradingscheme[i][0]),questiongradingscheme[i][1])\n",
    "    table3.add_hline()\n",
    "    core.append(table3) \n",
    "\n",
    "core.append(Subsection(\"Letter grade distribution\", numbering=False))\n",
    "table4 = Tabular('|cl||cl|')\n",
    "table4.add_hline()\n",
    "for i in range(len(lettergradedistribution)):\n",
    "    table4.add_row(lettergradedistribution[i][:])\n",
    "    table4.add_hline()\n",
    "core.append(table4)\n",
    "core.append(Subsection(\"Policies\",numbering=False))\n",
    "core.append(Subsubsection(\"Late assignment\", numbering=False))\n",
    "core.append(lateassignment)\n",
    "core.append(Subsection(\"Tentative schedule\",numbering=False))\n",
    "table5 = Tabular('|c|p{5.5in}|')\n",
    "table5.add_hline()\n",
    "table5.add_row(\"Week\",\"Content\")\n",
    "table5.add_hline()\n",
    "\n",
    "for i in range(len(schedule)):\n",
    "    table5.add_row(str(i+1),schedule[i])\n",
    "    table5.add_hline()\n",
    "core.append(table5)\n",
    "doc.append(core)\n",
    "doc.generate_pdf(clean_tex=False)"
   ]
  },
  {
   "cell_type": "code",
   "execution_count": null,
   "metadata": {},
   "outputs": [],
   "source": []
  }
 ],
 "metadata": {
  "kernelspec": {
   "display_name": "Python 3",
   "language": "python",
   "name": "python3"
  },
  "language_info": {
   "codemirror_mode": {
    "name": "ipython",
    "version": 3
   },
   "file_extension": ".py",
   "mimetype": "text/x-python",
   "name": "python",
   "nbconvert_exporter": "python",
   "pygments_lexer": "ipython3",
   "version": "3.7.3"
  }
 },
 "nbformat": 4,
 "nbformat_minor": 2
}
