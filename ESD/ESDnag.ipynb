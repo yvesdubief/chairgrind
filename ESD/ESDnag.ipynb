{
 "cells": [
  {
   "cell_type": "raw",
   "metadata": {},
   "source": [
    "Yves Dubief 2019\n",
    "The email part was found on the web but I don't remember where. Anyway it is all open source."
   ]
  },
  {
   "cell_type": "markdown",
   "metadata": {},
   "source": [
    "# Sending reminder for ESD\n",
    "\n",
    "The following script uses the Dean/Chair Banner report on expanded section description (ESD) to send an email reminding faculty to upload/fill their ESDs. The email includes the course subject and numbers and starts with \"Dear X\", where X is the first name of the faculty.\n",
    "\n",
    "To make it work, download the ESD folder, the whole git or clone this git. In the ESD folder, download the ESD report entitled \"esd_YYYYMM.xlsx\". Modify the first cell below and (optional) the second cell\n",
    "\n",
    "## Possible problem\n",
    "\n",
    "If some courses are assigned to \"staff\" the code should fail. The modification is easy. If you can code it, please send me the updated version, if not send me the report file and I'll correct the code.\n",
    "\n"
   ]
  },
  {
   "cell_type": "markdown",
   "metadata": {},
   "source": [
    "Most of the changes should happen here:"
   ]
  },
  {
   "cell_type": "code",
   "execution_count": null,
   "metadata": {},
   "outputs": [],
   "source": [
    "excelfile = 'XXXXXX.xlsx' # ESD report\n",
    "mysubject = 'ME'  # Course subject\n",
    "mycollege = 'CEMS' # College\n",
    "\n",
    "name = 'Yves Dubief' # Your name\n",
    "email = 'ydubief@uvm.edu' #Your email\n",
    "password = \"LE_mot_de_passe\" # your super strong password\n",
    "mail_server = 'smtp.uvm.edu' # do not modify\n",
    "subject = 'Missing Extended Course Description' #email subject\n",
    "signature = 'Associate Professor and Chair of the Department of Mechanical Engineering \\\n",
    "        \\n University of Vermont \\\n",
    "        \\n \\\n",
    "        \\n This nagging email is sent by python! ' # your signature"
   ]
  },
  {
   "cell_type": "markdown",
   "metadata": {},
   "source": [
    "Body of the message, edit at will."
   ]
  },
  {
   "cell_type": "code",
   "execution_count": null,
   "metadata": {},
   "outputs": [],
   "source": [
    "def create_body(first_name,numberofcourses,courselist):\n",
    "    body = \"Dear \"+ first_name + \", \"\n",
    "    if numberofcourses == 1:\n",
    "        body += \"\\n Based on today's update from the registrar (at 8:00 am), the extended section description \\\n",
    "                 \\n for the following course you will be teaching in the fall must be upload: \\\n",
    "                \\n \"\n",
    "    else:\n",
    "        body += \"\\n Based on today's update from the registrar (at 8:00 am), the extended section descriptions \\\n",
    "                 \\n for the following courses you will be teaching in the fall must be upload: \\\n",
    "                \\n \"\n",
    "    for course in courselist:\n",
    "        body += \"\\n \"+course \n",
    "    body += \" \\n \\\n",
    "              \\n If you have uploaded your ESD yesterday let me know. \\\n",
    "              \\n If you have uploaded today, please disregard this email. \\\n",
    "              \\n \\\n",
    "              \\n As per the 2018 CBA, ESD must be made available to students prior to class registration. \\\n",
    "              \\n Please upload your syllabus or the url of course website by clicking on the \\\n",
    "              \\n the extended course description box in the upper left of your myuvm page. \\\n",
    "              \\n I will send you a reminder a day if needed (sorry to nag). \\\n",
    "              \\n Best regards, \\\n",
    "              \\n Yves \"\n",
    "    return body\n",
    "\n",
    "first_name = 'Bob'\n",
    "numberofcourses = int(2)\n",
    "courselist = ['ME 195', 'ME 295']\n",
    "emailbody = create_body(first_name,numberofcourses,courselist)\n",
    "print(emailbody)"
   ]
  },
  {
   "cell_type": "code",
   "execution_count": null,
   "metadata": {},
   "outputs": [],
   "source": [
    "import pandas as pd\n",
    "esd = pd.read_excel(excelfile,header=1,skiprows=0)"
   ]
  },
  {
   "cell_type": "markdown",
   "metadata": {},
   "source": [
    "If sending to the whole college, comment the first line, uncomment the second."
   ]
  },
  {
   "cell_type": "code",
   "execution_count": null,
   "metadata": {},
   "outputs": [],
   "source": [
    "my_esd = esd[esd['Subject'] == mysubject]\n",
    "# my_esd = esd[esd['College'] == mycollege]"
   ]
  },
  {
   "cell_type": "markdown",
   "metadata": {},
   "source": [
    "Create faculty list"
   ]
  },
  {
   "cell_type": "code",
   "execution_count": null,
   "metadata": {},
   "outputs": [],
   "source": [
    "facultyfirstnamelist = []\n",
    "facultyemaillist = []\n",
    "for i in my_esd.index:\n",
    "    recieveremail = my_esd.Instructor_Email[i]\n",
    "    firstname = my_esd.Instructor_First[i]\n",
    "    if not(recieveremail in facultyemaillist):\n",
    "        facultyemaillist.append(recieveremail)\n",
    "        facultyfirstnamelist.append(firstname)\n",
    "       \n"
   ]
  },
  {
   "cell_type": "markdown",
   "metadata": {},
   "source": [
    "## Email Bot\n",
    "\n",
    "Magic!"
   ]
  },
  {
   "cell_type": "code",
   "execution_count": null,
   "metadata": {},
   "outputs": [],
   "source": [
    "import emailstuff\n",
    "\n",
    "attachments = []\n",
    "\n",
    "for j in range(len(facultyemaillist)):\n",
    "    recipient = facultyemaillist[j]\n",
    "#     print(receiveremail)\n",
    "    courselist = []\n",
    "    tmp_esd = my_esd[my_esd['Instructor_Email'] == recipient]\n",
    "    atleastonenoESD = False\n",
    "    for i in tmp_esd.index:\n",
    "#         print(i)\n",
    "        coursename = str(tmp_esd['Subject'][i])+\" \"+str(tmp_esd['Course No.'][i])\n",
    "        noESD = str(tmp_esd['No ESD or link'][i]).strip() == 'ESD or link not found'\n",
    "        if (not (coursename in courselist)) and noESD:\n",
    "            courselist.append(coursename)\n",
    "            atleastonenoESD = True\n",
    "#     if (facultyfirstnamelist[j] == 'Yves'):\n",
    "    if atleastonenoESD:\n",
    "        to_email = recipient\n",
    "        to_name = facultyfirstnamelist[j]\n",
    "        body = create_body(to_name, len(courselist), courselist)\n",
    "        message = body + signature\n",
    "        to_name = facultyfirstnamelist[j]\n",
    "        print(to_email,to_name)\n",
    "    #     print('Connecting to server...')\n",
    "        server = EmailConnection(mail_server, email, password)\n",
    "    #     print('Preparing the email...')\n",
    "        emailo = Email(from_='\"%s\" <%s>' % (name, email), #you can pass only email\n",
    "                      to='\"%s\" <%s>' % (to_name, to_email), #you can pass only email\n",
    "                      subject=subject, message=message, attachments=attachments,\n",
    "                 cc='\"%s\" <%s>' % (name, email), message_encoding='us-ascii')\n",
    "    #     print('Sending...')\n",
    "        server.send(emailo)\n",
    "    #     print('Disconnecting...')\n",
    "        server.close()\n",
    "        del emailo\n",
    "    print('Done!')"
   ]
  },
  {
   "cell_type": "code",
   "execution_count": null,
   "metadata": {},
   "outputs": [],
   "source": []
  }
 ],
 "metadata": {
  "kernelspec": {
   "display_name": "Python 3",
   "language": "python",
   "name": "python3"
  },
  "language_info": {
   "codemirror_mode": {
    "name": "ipython",
    "version": 3
   },
   "file_extension": ".py",
   "mimetype": "text/x-python",
   "name": "python",
   "nbconvert_exporter": "python",
   "pygments_lexer": "ipython3",
   "version": "3.6.8"
  }
 },
 "nbformat": 4,
 "nbformat_minor": 2
}
